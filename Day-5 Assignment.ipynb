{
 "cells": [
  {
   "cell_type": "markdown",
   "metadata": {},
   "source": [
    "# sort the numbers in increasing order"
   ]
  },
  {
   "cell_type": "code",
   "execution_count": 2,
   "metadata": {},
   "outputs": [
    {
     "name": "stdout",
     "output_type": "stream",
     "text": [
      "[0, 0, 0, 0, 0, 1, 1, 1, 2, 2, 3, 4, 4, 10, 56, 56]\n"
     ]
    }
   ],
   "source": [
    "num1 = [0,1,2,10,4,1,0,56,2,0,1,3,0,56,0,4]\n",
    "num1.sort()\n",
    "print(num1)"
   ]
  },
  {
   "cell_type": "markdown",
   "metadata": {},
   "source": [
    "#  merge two sorted list to produce one sorted list"
   ]
  },
  {
   "cell_type": "code",
   "execution_count": 6,
   "metadata": {},
   "outputs": [
    {
     "name": "stdout",
     "output_type": "stream",
     "text": [
      "the sorted list of both the list are [5, 10, 15, 20, 25, 30, 35, 40, 45, 50, 60, 60, 70, 80]\n"
     ]
    }
   ],
   "source": [
    "list1 = [10,20,30,40,50,60,70,80]\n",
    "list2 = [5,15,25,35,45,60]\n",
    "length1 = len(list1)\n",
    "length2 = len(list2)\n",
    "merge = []\n",
    "i = 0\n",
    "j = 0\n",
    "while i < length1 and j < length2 :\n",
    "    if list1[i] < list2[j] :\n",
    "        merge.append(list1[i])\n",
    "        i= i+1\n",
    "    else :\n",
    "        merge.append(list2[j])\n",
    "        j = j+1\n",
    "merge = merge + list1[i:] + list2[j:]\n",
    "print(\"the sorted list of both the list are\", merge)\n"
   ]
  },
  {
   "cell_type": "code",
   "execution_count": null,
   "metadata": {},
   "outputs": [],
   "source": []
  }
 ],
 "metadata": {
  "kernelspec": {
   "display_name": "Python 3",
   "language": "python",
   "name": "python3"
  },
  "language_info": {
   "codemirror_mode": {
    "name": "ipython",
    "version": 3
   },
   "file_extension": ".py",
   "mimetype": "text/x-python",
   "name": "python",
   "nbconvert_exporter": "python",
   "pygments_lexer": "ipython3",
   "version": "3.7.6"
  }
 },
 "nbformat": 4,
 "nbformat_minor": 4
}
